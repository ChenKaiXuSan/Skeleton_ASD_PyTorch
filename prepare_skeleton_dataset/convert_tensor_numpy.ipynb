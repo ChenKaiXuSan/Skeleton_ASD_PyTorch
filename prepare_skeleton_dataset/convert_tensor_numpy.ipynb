{
 "cells": [
  {
   "cell_type": "code",
   "execution_count": 15,
   "metadata": {},
   "outputs": [],
   "source": [
    "import pickle\n",
    "import copy\n",
    "\n",
    "with open('/workspace/data/seg_skeleton_pkl/whole_annotations.pkl', 'rb') as f:\n",
    "\tdata = pickle.load(f)\n",
    "\n",
    "data_copy = copy.deepcopy(data)"
   ]
  },
  {
   "cell_type": "code",
   "execution_count": 16,
   "metadata": {},
   "outputs": [],
   "source": [
    "for one_video in data_copy['annotations']:\n",
    "    one_video['keypoint'] = one_video['keypoint'].cpu().numpy()\n",
    "    one_video['keypoint_score'] = one_video['keypoint_score'].cpu().numpy()"
   ]
  },
  {
   "cell_type": "code",
   "execution_count": 17,
   "metadata": {},
   "outputs": [
    {
     "data": {
      "text/plain": [
       "dtype('float32')"
      ]
     },
     "execution_count": 17,
     "metadata": {},
     "output_type": "execute_result"
    }
   ],
   "source": [
    "data_copy['annotations'][0]['keypoint'].dtype"
   ]
  },
  {
   "cell_type": "code",
   "execution_count": 18,
   "metadata": {},
   "outputs": [],
   "source": [
    "with open('/workspace/data/seg_skeleton_pkl/whole_annotations_numpy.pkl', 'wb') as f:\n",
    "\tpickle.dump(data_copy, f)"
   ]
  }
 ],
 "metadata": {
  "kernelspec": {
   "display_name": "Python 3",
   "language": "python",
   "name": "python3"
  },
  "language_info": {
   "codemirror_mode": {
    "name": "ipython",
    "version": 3
   },
   "file_extension": ".py",
   "mimetype": "text/x-python",
   "name": "python",
   "nbconvert_exporter": "python",
   "pygments_lexer": "ipython3",
   "version": "3.8.10"
  }
 },
 "nbformat": 4,
 "nbformat_minor": 2
}
