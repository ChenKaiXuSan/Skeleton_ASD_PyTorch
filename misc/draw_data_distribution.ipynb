{
 "cells": [
  {
   "cell_type": "code",
   "execution_count": 27,
   "metadata": {},
   "outputs": [],
   "source": [
    "from typing import Any\n",
    "from sklearn.model_selection import train_test_split, GroupKFold, StratifiedGroupKFold\n",
    "from imblearn.over_sampling import RandomOverSampler\n",
    "from imblearn.under_sampling import RandomUnderSampler\n",
    "\n",
    "from pathlib import Path\n",
    "import json\n",
    "\n",
    "class DefineCrossValidation():\n",
    "    \"\"\"process:\n",
    "    cross validation > over/under sampler > train/val split\n",
    "    fold: [train/val]: [path]\n",
    "    \"\"\"    \n",
    "\n",
    "    def __init__(self, video_path, K, sampling: str) -> None:\n",
    "        self.video_path = video_path\n",
    "        self.K = K\n",
    "        self.sampler = sampling\n",
    "\n",
    "    @staticmethod\n",
    "    def random_sampler(X, y, train_idx, val_idx, sampler):\n",
    "\n",
    "        # train\n",
    "        train_mapped_path = []\n",
    "        new_X_path = [X[i] for i in train_idx]\n",
    "\n",
    "        sampled_X, sampled_y = sampler.fit_resample([[i] for i in range(len(new_X_path))], [y[i] for i in train_idx])\n",
    "\n",
    "        # map sampled_X to new_X_path\n",
    "        for i in sampled_X:\n",
    "            train_mapped_path.append(new_X_path[i[0]])\n",
    "\n",
    "        # val \n",
    "        val_mapped_path = [] \n",
    "        new_X_path = [X[i] for i in val_idx]\n",
    "\n",
    "        sampled_X, sampled_y = sampler.fit_resample([[i] for i in range(len(new_X_path))], [y[i] for i in val_idx])\n",
    "\n",
    "        # map \n",
    "        for i in sampled_X:\n",
    "            val_mapped_path.append(new_X_path[i[0]])\n",
    "\n",
    "        return train_mapped_path, val_mapped_path\n",
    "\n",
    "    def define_cross_validation(self):\n",
    "        \"\"\"define cross validation first, with the K.\n",
    "        #! the 1 fold and K fold should return the same format.\n",
    "        train = {\n",
    "            0: {\n",
    "                \"disease1\": [patient1_idx, patient2_idx, ...],\n",
    "                \"disease2\": [patient1_idx, patient2_idx, ...],\n",
    "        }\n",
    "        val = {\n",
    "            0: {\n",
    "                \"disease1\": [patient1_idx, patient2_idx, ...],\n",
    "                \"disease2\": [patient1_idx, patient2_idx, ...],\n",
    "        }\n",
    "\n",
    "        Args:\n",
    "            video_path (str): the index of the video path, in .json format.\n",
    "            K (int, optional): crossed number of validation. Defaults to 5, can be 1 or K.\n",
    "\n",
    "        Returns:\n",
    "            list: the format like upper.\n",
    "        \"\"\"\n",
    "        K = self.K\n",
    "        _path = Path(self.video_path)\n",
    "\n",
    "        ans_fold = {}\n",
    "\n",
    "        # define the cross validation\n",
    "\n",
    "        X = []  # patient index\n",
    "        y = [] # patient class index\n",
    "        groups = []  # different patient groups\n",
    "        # process one disease in one loop.\n",
    "        for disease in _path.iterdir():\n",
    "\n",
    "            if disease.name != \"log\":\n",
    "                patient_list = sorted(list(disease.iterdir()))\n",
    "                name_map = set()\n",
    "\n",
    "                for p in patient_list:\n",
    "                    name, _ = p.name.split(\"-\")\n",
    "                    name_map.add(name)\n",
    "\n",
    "                element_to_num = {element: idx for idx, element in enumerate(name_map)}\n",
    "\n",
    "                for i in range(len(patient_list)):\n",
    "                    name, _ = patient_list[i].name.split(\"-\")\n",
    "                        # load the video tensor from json file\n",
    "                    with open(patient_list[i]) as f:\n",
    "                        file_info_dict = json.load(f)\n",
    "\n",
    "                    label = file_info_dict[\"label\"]\n",
    "\n",
    "                    X.append(patient_list[i])\n",
    "                    y.append(label)\n",
    "                    groups.append(element_to_num[name])\n",
    "                    \n",
    "        sgkf = StratifiedGroupKFold(n_splits=K)\n",
    "\n",
    "        for i, (train_index, test_index) in enumerate(\n",
    "            sgkf.split(X=X, y=y, groups=groups)\n",
    "        ):  \n",
    "            if self.sampler is not None:\n",
    "                if self.sampler == \"over\":\n",
    "                    ros = RandomOverSampler(random_state=42)\n",
    "                elif self.sampler == \"under\":\n",
    "                    ros = RandomUnderSampler(random_state=42)\n",
    "\n",
    "                train_mapped_path, val_mapped_path = self.random_sampler(X, y, train_index, test_index, ros)\n",
    "            else:\n",
    "                train_mapped_path = [X[i] for i in train_index]\n",
    "                val_mapped_path = [X[i] for i in test_index]\n",
    "\n",
    "            train_idx = train_mapped_path\n",
    "            val_idx = val_mapped_path\n",
    "\n",
    "            ans_fold[i] = [train_idx, val_idx]\n",
    "            \n",
    "        return ans_fold, X, y, groups\n",
    "\n",
    "    def __call__(self, *args: Any, **kwds: Any) -> Any:\n",
    "\n",
    "        return self.define_cross_validation()\n",
    "\n",
    "video_path = \"/workspace/data/segmentation_dataset_512/json\"\n",
    "fold_dict, X, y, groups = DefineCrossValidation(video_path, K=3, sampling=\"under\")()"
   ]
  },
  {
   "cell_type": "markdown",
   "metadata": {},
   "source": [
    "# Draw the histogram of the data"
   ]
  },
  {
   "cell_type": "code",
   "execution_count": 28,
   "metadata": {},
   "outputs": [
    {
     "name": "stdout",
     "output_type": "stream",
     "text": [
      "train:0, ASD, 198\n",
      "train:0, DHS, 198\n",
      "train:0, LCS_HipOA, 198\n",
      "val:0, ASD, 126\n",
      "val:0, DHS, 126\n",
      "val:0, LCS_HipOA, 126\n",
      "####################\n",
      "train:1, ASD, 244\n",
      "train:1, DHS, 244\n",
      "train:1, LCS_HipOA, 244\n",
      "val:1, ASD, 80\n",
      "val:1, DHS, 80\n",
      "val:1, LCS_HipOA, 80\n",
      "####################\n",
      "train:2, ASD, 206\n",
      "train:2, DHS, 206\n",
      "train:2, LCS_HipOA, 206\n",
      "val:2, ASD, 118\n",
      "val:2, DHS, 118\n",
      "val:2, LCS_HipOA, 118\n",
      "####################\n"
     ]
    }
   ],
   "source": [
    "# fold:train/val:disease:idx\n",
    "\n",
    "CLASS = [\"ASD\", \"DHS\", \"LCS_HipOA\"]\n",
    "NAME = [\"ASD\", \"DHS\", \"LCS\", \"HipOA\"]\n",
    "\n",
    "\n",
    "# ! 有个问题，每个人的视频切片数量是不一样的，这个时候容易造成数据不平衡啊。\n",
    "# ！不过先忽略这个问题吧，就按照人的数量来分。因为之前的研究也没有考到到细小样本不平衡的问题。\n",
    "for fold, train_val in fold_dict.items():\n",
    "    \n",
    "    train_dict = {n:[] for n in CLASS}\n",
    "    val_dict = {n:[] for n in CLASS}\n",
    "\n",
    "    train_idx, val_idx = train_val\n",
    "    \n",
    "    train_num_diease = len(train_idx)\n",
    "    val_num_diease = len(val_idx)\n",
    "\n",
    "    # train \n",
    "    for i in train_idx:\n",
    "        for n in NAME:\n",
    "            if n in i.name:\n",
    "                try:\n",
    "                    train_dict[n].append(i)\n",
    "                except:\n",
    "                    train_dict['LCS_HipOA'].append(i)\n",
    "\n",
    "    # val   \n",
    "    for i in val_idx:\n",
    "        for n in NAME:\n",
    "            if n in i.name:\n",
    "                try:\n",
    "                    val_dict[n].append(i)\n",
    "                except:\n",
    "                    val_dict['LCS_HipOA'].append(i)\n",
    "\n",
    "    for disease, v in train_dict.items():\n",
    "        print(f\"train:{fold}, {disease}, {len(v)}\")\n",
    "    for disease, v in val_dict.items():\n",
    "        print(f\"val:{fold}, {disease}, {len(v)}\")\n",
    "\n",
    "    print(\"#\"*20)"
   ]
  },
  {
   "cell_type": "code",
   "execution_count": 31,
   "metadata": {},
   "outputs": [
    {
     "data": {
      "text/plain": [
       "118"
      ]
     },
     "execution_count": 31,
     "metadata": {},
     "output_type": "execute_result"
    }
   ],
   "source": [
    "len(v)"
   ]
  },
  {
   "cell_type": "markdown",
   "metadata": {},
   "source": [
    "# Need to draw the data distribution of the dataset"
   ]
  },
  {
   "cell_type": "code",
   "execution_count": 29,
   "metadata": {},
   "outputs": [
    {
     "data": {
      "image/png": "[encoded data removed]",
      "text/plain": [
       "<Figure size 640x480 with 1 Axes>"
      ]
     },
     "metadata": {},
     "output_type": "display_data"
    }
   ],
   "source": [
    "import matplotlib.pyplot as plt\n",
    "import numpy as np\n",
    "\n",
    "# Generate the class/group data\n",
    "n_points = 100\n",
    "\n",
    "cmap_data = plt.cm.Paired\n",
    "\n",
    "def visualize_groups(classes, groups, name):\n",
    "    # Visualize dataset groups\n",
    "    fig, ax = plt.subplots()\n",
    "    ax.scatter(\n",
    "        range(len(groups)),\n",
    "        [0.5] * len(groups),\n",
    "        c=groups,\n",
    "        marker=\"_\",\n",
    "        lw=50,\n",
    "        cmap=cmap_data,\n",
    "    )\n",
    "    ax.scatter(\n",
    "        range(len(groups)),\n",
    "        [3.5] * len(groups),\n",
    "        c=classes,\n",
    "        marker=\"_\",\n",
    "        lw=50,\n",
    "        cmap=cmap_data,\n",
    "    )\n",
    "    ax.set(\n",
    "        ylim=[-1, 5],\n",
    "        yticks=[0.5, 3.5],\n",
    "        yticklabels=[\"Data\\ngroup\", \"Data\\nclass\"],\n",
    "        xlabel=\"Sample index\",\n",
    "    )\n",
    "\n",
    "\n",
    "visualize_groups(y, groups, \"no groups\")"
   ]
  },
  {
   "cell_type": "code",
   "execution_count": 22,
   "metadata": {},
   "outputs": [],
   "source": [
    "uid_y = y.copy()\n",
    "uid_groups = groups.copy()\n",
    "\n",
    "for index, i in enumerate(set(uid_groups)):\n",
    "    for num, j in enumerate(uid_groups):\n",
    "        if i == j:\n",
    "            uid_groups[num] = index\n",
    "\n",
    "for index, i in enumerate(set(uid_y)):\n",
    "    for num, j in enumerate(uid_y):\n",
    "        if i == j:\n",
    "            uid_y[num] = index"
   ]
  },
  {
   "cell_type": "code",
   "execution_count": 23,
   "metadata": {},
   "outputs": [
    {
     "data": {
      "text/plain": [
       "<Axes: title={'center': 'StratifiedGroupKFold'}, xlabel='Sample index', ylabel='CV iteration'>"
      ]
     },
     "execution_count": 23,
     "metadata": {},
     "output_type": "execute_result"
    },
    {
     "data": {
      "image/png": "[encoded data removed]",
      "text/plain": [
       "<Figure size 640x480 with 1 Axes>"
      ]
     },
     "metadata": {},
     "output_type": "display_data"
    }
   ],
   "source": [
    "import numpy as np \n",
    "cmap_cv = plt.cm.coolwarm\n",
    "cmap_data = plt.cm.Paired\n",
    "\n",
    "def plot_cv_indices(cv, X, y, group, ax:plt, n_splits, lw=10):\n",
    "    \"\"\"Create a sample plot for indices of a cross-validation object.\"\"\"\n",
    "\n",
    "    # Generate the training/testing visualizations for each CV split\n",
    "    for ii, (tr, tt) in enumerate(cv.split(X=X, y=y, groups=group)):\n",
    "        # Fill in indices with the training/test groups\n",
    "        indices = np.array([np.nan] * len(X))\n",
    "        indices[tt] = 1\n",
    "        indices[tr] = 0\n",
    "\n",
    "        # Visualize the results\n",
    "        ax.scatter(\n",
    "            range(len(indices)),\n",
    "            [ii + 0.5] * len(indices),\n",
    "            c=indices,\n",
    "            marker=\"_\",\n",
    "            lw=lw,\n",
    "            cmap=cmap_cv,\n",
    "            vmin=-0.2,\n",
    "            vmax=1.2,\n",
    "        )\n",
    "\n",
    "    # Plot the data classes and groups at the end\n",
    "    ax.scatter(\n",
    "        range(len(X)), [ii + 1.5] * len(X), c=y, marker=\"_\", lw=lw, cmap=cmap_data\n",
    "    )\n",
    "\n",
    "    ax.scatter(\n",
    "        range(len(X)), [ii + 2.5] * len(X), c=group, marker=\"_\", lw=lw, cmap=cmap_data\n",
    "    )\n",
    "\n",
    "    # Formatting\n",
    "    yticklabels = list(range(n_splits)) + [\"class\", \"group\"]\n",
    "    ax.set(\n",
    "        yticks=np.arange(n_splits + 2) + 0.5,\n",
    "        yticklabels=yticklabels,\n",
    "        xlabel=\"Sample index\",\n",
    "        ylabel=\"CV iteration\",\n",
    "        ylim=[n_splits + 2.2, -0.2],\n",
    "        # xlim=[0, 100],\n",
    "    )\n",
    "    ax.set_title(\"{}\".format(type(cv).__name__), fontsize=20)\n",
    "\n",
    "    return ax\n",
    "\n",
    "fig, ax = plt.subplots()\n",
    "plt.rc('font', size=20)\n",
    "plt.rc('axes', titlesize=20)\n",
    "sgkf = StratifiedGroupKFold(n_splits=3)\n",
    "plot_cv_indices(sgkf, X, uid_y, uid_groups, ax, 3)"
   ]
  },
  {
   "cell_type": "markdown",
   "metadata": {},
   "source": [
    "# Dataset balance"
   ]
  },
  {
   "cell_type": "code",
   "execution_count": 132,
   "metadata": {},
   "outputs": [
    {
     "ename": "ValueError",
     "evalue": "Expected 2D array, got 1D array instead:\narray=[PosixPath('/workspace/data/segmentation_dataset_512/json/ASD/20160120_ASD_lat__V1-0001.json')\n PosixPath('/workspace/data/segmentation_dataset_512/json/ASD/20160120_ASD_lat__V1-0002.json')\n PosixPath('/workspace/data/segmentation_dataset_512/json/ASD/20160120_ASD_lat__V1-0003.json')\n ...\n PosixPath('/workspace/data/segmentation_dataset_512/json/DHS/20210812_DHS_lat_V1-0038.json')\n PosixPath('/workspace/data/segmentation_dataset_512/json/DHS/20210812_DHS_lat_V1-0039.json')\n PosixPath('/workspace/data/segmentation_dataset_512/json/DHS/20210812_DHS_lat_V1-0040.json')].\nReshape your data either using array.reshape(-1, 1) if your data has a single feature or array.reshape(1, -1) if it contains a single sample.",
     "output_type": "error",
     "traceback": [
      "\u001b[0;31m---------------------------------------------------------------------------\u001b[0m",
      "\u001b[0;31mValueError\u001b[0m                                Traceback (most recent call last)",
      "Cell \u001b[0;32mIn[132], line 12\u001b[0m\n\u001b[1;32m     10\u001b[0m \u001b[38;5;66;03m# 使用 RandomUnderSampler 进行欠采样\u001b[39;00m\n\u001b[1;32m     11\u001b[0m rus \u001b[38;5;241m=\u001b[39m RandomUnderSampler(random_state\u001b[38;5;241m=\u001b[39m\u001b[38;5;241m42\u001b[39m)\n\u001b[0;32m---> 12\u001b[0m X_resampled, y_resampled \u001b[38;5;241m=\u001b[39m \u001b[43mrus\u001b[49m\u001b[38;5;241;43m.\u001b[39;49m\u001b[43mfit_resample\u001b[49m\u001b[43m(\u001b[49m\u001b[43mX\u001b[49m\u001b[43m,\u001b[49m\u001b[43m \u001b[49m\u001b[43my\u001b[49m\u001b[43m)\u001b[49m\n",
      "File \u001b[0;32m/usr/local/lib/python3.8/dist-packages/imblearn/base.py:208\u001b[0m, in \u001b[0;36mBaseSampler.fit_resample\u001b[0;34m(self, X, y)\u001b[0m\n\u001b[1;32m    187\u001b[0m \u001b[38;5;250m\u001b[39m\u001b[38;5;124;03m\"\"\"Resample the dataset.\u001b[39;00m\n\u001b[1;32m    188\u001b[0m \n\u001b[1;32m    189\u001b[0m \u001b[38;5;124;03mParameters\u001b[39;00m\n\u001b[0;32m   (...)\u001b[0m\n\u001b[1;32m    205\u001b[0m \u001b[38;5;124;03m    The corresponding label of `X_resampled`.\u001b[39;00m\n\u001b[1;32m    206\u001b[0m \u001b[38;5;124;03m\"\"\"\u001b[39;00m\n\u001b[1;32m    207\u001b[0m \u001b[38;5;28mself\u001b[39m\u001b[38;5;241m.\u001b[39m_validate_params()\n\u001b[0;32m--> 208\u001b[0m \u001b[38;5;28;01mreturn\u001b[39;00m \u001b[38;5;28;43msuper\u001b[39;49m\u001b[43m(\u001b[49m\u001b[43m)\u001b[49m\u001b[38;5;241;43m.\u001b[39;49m\u001b[43mfit_resample\u001b[49m\u001b[43m(\u001b[49m\u001b[43mX\u001b[49m\u001b[43m,\u001b[49m\u001b[43m \u001b[49m\u001b[43my\u001b[49m\u001b[43m)\u001b[49m\n",
      "File \u001b[0;32m/usr/local/lib/python3.8/dist-packages/imblearn/base.py:106\u001b[0m, in \u001b[0;36mSamplerMixin.fit_resample\u001b[0;34m(self, X, y)\u001b[0m\n\u001b[1;32m    104\u001b[0m check_classification_targets(y)\n\u001b[1;32m    105\u001b[0m arrays_transformer \u001b[38;5;241m=\u001b[39m ArraysTransformer(X, y)\n\u001b[0;32m--> 106\u001b[0m X, y, binarize_y \u001b[38;5;241m=\u001b[39m \u001b[38;5;28;43mself\u001b[39;49m\u001b[38;5;241;43m.\u001b[39;49m\u001b[43m_check_X_y\u001b[49m\u001b[43m(\u001b[49m\u001b[43mX\u001b[49m\u001b[43m,\u001b[49m\u001b[43m \u001b[49m\u001b[43my\u001b[49m\u001b[43m)\u001b[49m\n\u001b[1;32m    108\u001b[0m \u001b[38;5;28mself\u001b[39m\u001b[38;5;241m.\u001b[39msampling_strategy_ \u001b[38;5;241m=\u001b[39m check_sampling_strategy(\n\u001b[1;32m    109\u001b[0m     \u001b[38;5;28mself\u001b[39m\u001b[38;5;241m.\u001b[39msampling_strategy, y, \u001b[38;5;28mself\u001b[39m\u001b[38;5;241m.\u001b[39m_sampling_type\n\u001b[1;32m    110\u001b[0m )\n\u001b[1;32m    112\u001b[0m output \u001b[38;5;241m=\u001b[39m \u001b[38;5;28mself\u001b[39m\u001b[38;5;241m.\u001b[39m_fit_resample(X, y)\n",
      "File \u001b[0;32m/usr/local/lib/python3.8/dist-packages/imblearn/under_sampling/_prototype_selection/_random_under_sampler.py:101\u001b[0m, in \u001b[0;36mRandomUnderSampler._check_X_y\u001b[0;34m(self, X, y)\u001b[0m\n\u001b[1;32m     99\u001b[0m \u001b[38;5;28;01mdef\u001b[39;00m \u001b[38;5;21m_check_X_y\u001b[39m(\u001b[38;5;28mself\u001b[39m, X, y):\n\u001b[1;32m    100\u001b[0m     y, binarize_y \u001b[38;5;241m=\u001b[39m check_target_type(y, indicate_one_vs_all\u001b[38;5;241m=\u001b[39m\u001b[38;5;28;01mTrue\u001b[39;00m)\n\u001b[0;32m--> 101\u001b[0m     X \u001b[38;5;241m=\u001b[39m \u001b[43m_check_X\u001b[49m\u001b[43m(\u001b[49m\u001b[43mX\u001b[49m\u001b[43m)\u001b[49m\n\u001b[1;32m    102\u001b[0m     \u001b[38;5;28mself\u001b[39m\u001b[38;5;241m.\u001b[39m_check_n_features(X, reset\u001b[38;5;241m=\u001b[39m\u001b[38;5;28;01mTrue\u001b[39;00m)\n\u001b[1;32m    103\u001b[0m     \u001b[38;5;28mself\u001b[39m\u001b[38;5;241m.\u001b[39m_check_feature_names(X, reset\u001b[38;5;241m=\u001b[39m\u001b[38;5;28;01mTrue\u001b[39;00m)\n",
      "File \u001b[0;32m/usr/local/lib/python3.8/dist-packages/imblearn/utils/_validation.py:624\u001b[0m, in \u001b[0;36m_check_X\u001b[0;34m(X)\u001b[0m\n\u001b[1;32m    622\u001b[0m \u001b[38;5;28;01mif\u001b[39;00m _is_pandas_df(X):\n\u001b[1;32m    623\u001b[0m     \u001b[38;5;28;01mreturn\u001b[39;00m X\n\u001b[0;32m--> 624\u001b[0m \u001b[38;5;28;01mreturn\u001b[39;00m \u001b[43mcheck_array\u001b[49m\u001b[43m(\u001b[49m\n\u001b[1;32m    625\u001b[0m \u001b[43m    \u001b[49m\u001b[43mX\u001b[49m\u001b[43m,\u001b[49m\u001b[43m \u001b[49m\u001b[43mdtype\u001b[49m\u001b[38;5;241;43m=\u001b[39;49m\u001b[38;5;28;43;01mNone\u001b[39;49;00m\u001b[43m,\u001b[49m\u001b[43m \u001b[49m\u001b[43maccept_sparse\u001b[49m\u001b[38;5;241;43m=\u001b[39;49m\u001b[43m[\u001b[49m\u001b[38;5;124;43m\"\u001b[39;49m\u001b[38;5;124;43mcsr\u001b[39;49m\u001b[38;5;124;43m\"\u001b[39;49m\u001b[43m,\u001b[49m\u001b[43m \u001b[49m\u001b[38;5;124;43m\"\u001b[39;49m\u001b[38;5;124;43mcsc\u001b[39;49m\u001b[38;5;124;43m\"\u001b[39;49m\u001b[43m]\u001b[49m\u001b[43m,\u001b[49m\u001b[43m \u001b[49m\u001b[43mforce_all_finite\u001b[49m\u001b[38;5;241;43m=\u001b[39;49m\u001b[38;5;28;43;01mFalse\u001b[39;49;00m\n\u001b[1;32m    626\u001b[0m \u001b[43m\u001b[49m\u001b[43m)\u001b[49m\n",
      "File \u001b[0;32m/usr/local/lib/python3.8/dist-packages/sklearn/utils/validation.py:938\u001b[0m, in \u001b[0;36mcheck_array\u001b[0;34m(array, accept_sparse, accept_large_sparse, dtype, order, copy, force_all_finite, ensure_2d, allow_nd, ensure_min_samples, ensure_min_features, estimator, input_name)\u001b[0m\n\u001b[1;32m    936\u001b[0m     \u001b[38;5;66;03m# If input is 1D raise error\u001b[39;00m\n\u001b[1;32m    937\u001b[0m     \u001b[38;5;28;01mif\u001b[39;00m array\u001b[38;5;241m.\u001b[39mndim \u001b[38;5;241m==\u001b[39m \u001b[38;5;241m1\u001b[39m:\n\u001b[0;32m--> 938\u001b[0m         \u001b[38;5;28;01mraise\u001b[39;00m \u001b[38;5;167;01mValueError\u001b[39;00m(\n\u001b[1;32m    939\u001b[0m             \u001b[38;5;124m\"\u001b[39m\u001b[38;5;124mExpected 2D array, got 1D array instead:\u001b[39m\u001b[38;5;130;01m\\n\u001b[39;00m\u001b[38;5;124marray=\u001b[39m\u001b[38;5;132;01m{}\u001b[39;00m\u001b[38;5;124m.\u001b[39m\u001b[38;5;130;01m\\n\u001b[39;00m\u001b[38;5;124m\"\u001b[39m\n\u001b[1;32m    940\u001b[0m             \u001b[38;5;124m\"\u001b[39m\u001b[38;5;124mReshape your data either using array.reshape(-1, 1) if \u001b[39m\u001b[38;5;124m\"\u001b[39m\n\u001b[1;32m    941\u001b[0m             \u001b[38;5;124m\"\u001b[39m\u001b[38;5;124myour data has a single feature or array.reshape(1, -1) \u001b[39m\u001b[38;5;124m\"\u001b[39m\n\u001b[1;32m    942\u001b[0m             \u001b[38;5;124m\"\u001b[39m\u001b[38;5;124mif it contains a single sample.\u001b[39m\u001b[38;5;124m\"\u001b[39m\u001b[38;5;241m.\u001b[39mformat(array)\n\u001b[1;32m    943\u001b[0m         )\n\u001b[1;32m    945\u001b[0m \u001b[38;5;28;01mif\u001b[39;00m dtype_numeric \u001b[38;5;129;01mand\u001b[39;00m \u001b[38;5;28mhasattr\u001b[39m(array\u001b[38;5;241m.\u001b[39mdtype, \u001b[38;5;124m\"\u001b[39m\u001b[38;5;124mkind\u001b[39m\u001b[38;5;124m\"\u001b[39m) \u001b[38;5;129;01mand\u001b[39;00m array\u001b[38;5;241m.\u001b[39mdtype\u001b[38;5;241m.\u001b[39mkind \u001b[38;5;129;01min\u001b[39;00m \u001b[38;5;124m\"\u001b[39m\u001b[38;5;124mUSV\u001b[39m\u001b[38;5;124m\"\u001b[39m:\n\u001b[1;32m    946\u001b[0m     \u001b[38;5;28;01mraise\u001b[39;00m \u001b[38;5;167;01mValueError\u001b[39;00m(\n\u001b[1;32m    947\u001b[0m         \u001b[38;5;124m\"\u001b[39m\u001b[38;5;124mdtype=\u001b[39m\u001b[38;5;124m'\u001b[39m\u001b[38;5;124mnumeric\u001b[39m\u001b[38;5;124m'\u001b[39m\u001b[38;5;124m is not compatible with arrays of bytes/strings.\u001b[39m\u001b[38;5;124m\"\u001b[39m\n\u001b[1;32m    948\u001b[0m         \u001b[38;5;124m\"\u001b[39m\u001b[38;5;124mConvert your data to numeric values explicitly instead.\u001b[39m\u001b[38;5;124m\"\u001b[39m\n\u001b[1;32m    949\u001b[0m     )\n",
      "\u001b[0;31mValueError\u001b[0m: Expected 2D array, got 1D array instead:\narray=[PosixPath('/workspace/data/segmentation_dataset_512/json/ASD/20160120_ASD_lat__V1-0001.json')\n PosixPath('/workspace/data/segmentation_dataset_512/json/ASD/20160120_ASD_lat__V1-0002.json')\n PosixPath('/workspace/data/segmentation_dataset_512/json/ASD/20160120_ASD_lat__V1-0003.json')\n ...\n PosixPath('/workspace/data/segmentation_dataset_512/json/DHS/20210812_DHS_lat_V1-0038.json')\n PosixPath('/workspace/data/segmentation_dataset_512/json/DHS/20210812_DHS_lat_V1-0039.json')\n PosixPath('/workspace/data/segmentation_dataset_512/json/DHS/20210812_DHS_lat_V1-0040.json')].\nReshape your data either using array.reshape(-1, 1) if your data has a single feature or array.reshape(1, -1) if it contains a single sample."
     ]
    }
   ],
   "source": [
    "import numpy as np\n",
    "from imblearn.under_sampling import RandomUnderSampler\n",
    "from imblearn.over_sampling import SMOTE\n",
    "from sklearn.model_selection import train_test_split\n",
    "\n",
    "\n",
    "# 划分训练集和测试集\n",
    "X_train, X_test, y_train, y_test = train_test_split(X, y, test_size=0.2, random_state=42)\n",
    "\n",
    "# 使用 RandomUnderSampler 进行欠采样\n",
    "rus = RandomUnderSampler(random_state=42)\n",
    "X_resampled, y_resampled = rus.fit_resample(X, y)\n",
    "\n"
   ]
  },
  {
   "cell_type": "code",
   "execution_count": 152,
   "metadata": {},
   "outputs": [],
   "source": [
    "X_index = [[i] for i in range(len(X))]"
   ]
  },
  {
   "cell_type": "code",
   "execution_count": 153,
   "metadata": {},
   "outputs": [],
   "source": [
    "from imblearn.over_sampling import RandomOverSampler\n",
    "\n",
    "smote = RandomOverSampler(random_state=42)\n",
    "X_resampled, y_resampled = smote.fit_resample(X_index, y)"
   ]
  },
  {
   "cell_type": "code",
   "execution_count": 158,
   "metadata": {},
   "outputs": [],
   "source": [
    "new_list = []\n",
    "for i in X_resampled:\n",
    "    new_list.append(X[i[0]])"
   ]
  }
 ],
 "metadata": {
  "kernelspec": {
   "display_name": "Python 3",
   "language": "python",
   "name": "python3"
  },
  "language_info": {
   "codemirror_mode": {
    "name": "ipython",
    "version": 3
   },
   "file_extension": ".py",
   "mimetype": "text/x-python",
   "name": "python",
   "nbconvert_exporter": "python",
   "pygments_lexer": "ipython3",
   "version": "3.8.10"
  }
 },
 "nbformat": 4,
 "nbformat_minor": 2
}
