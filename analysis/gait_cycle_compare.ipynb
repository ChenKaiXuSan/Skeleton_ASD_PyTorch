{
 "cells": [
  {
   "cell_type": "markdown",
   "metadata": {},
   "source": [
    "# Gait Cycle defined by bbox\n",
    "This file used to compare the splitted gait cycel index with different method.\n",
    "Here have 3 method to split the gait cycle:\n",
    "\n",
    "1. Using the bbox of the human body width (max width) to split the gait cycle.\n",
    "2. Using the foot keypoints to split the gait cycle.\n",
    "3. Mix the bbox and foot keypoints to split the gait cycle.\n",
    "\n",
    "For the results metrics, we use Euclidean Distance to calculate the difference between the gait cycle index with different method."
   ]
  },
  {
   "cell_type": "code",
   "execution_count": 30,
   "metadata": {},
   "outputs": [
    {
     "name": "stdout",
     "output_type": "stream",
     "text": [
      "mix method: [0, 18, 29, 74, 85, 108, 136, 147, 168, 198, 209]\n",
      "bbox method: [0, 50, 80, 138, 149, 221]\n",
      "pose method: [0, 18, 29, 74, 85, 108, 136, 147, 168, 198, 209]\n"
     ]
    }
   ],
   "source": [
    "import json \n",
    "\n",
    "video_name = 'LCS_HipOA/20170731_LCS_lat_V1-0001.json'\n",
    "# mix method\n",
    "with open('/workspace/data/segmentation_dataset_512/json_mix/' + video_name, 'r') as f:\n",
    "    mix_method = json.load(f)\n",
    "\n",
    "# bbox method\n",
    "with open('/workspace/data/segmentation_dataset_512/json_bbox/' + video_name) as f:\n",
    "    bbox_method = json.load(f)\n",
    "\n",
    "# pose method\n",
    "with open('/workspace/data/segmentation_dataset_512/json_pose/' + video_name) as f:\n",
    "    pose_method = json.load(f)\n",
    "\n",
    "\n",
    "print(f'mix method: {mix_method[\"gait_cycle_index\"]}')\n",
    "print(f'bbox method: {bbox_method[\"gait_cycle_index_bbox\"]}')\n",
    "print(f'pose method: {pose_method[\"gait_cycle_index\"]}')\n",
    "\n",
    "    "
   ]
  },
  {
   "cell_type": "code",
   "execution_count": null,
   "metadata": {},
   "outputs": [],
   "source": [
    "mix_method['video_path']"
   ]
  },
  {
   "cell_type": "code",
   "execution_count": null,
   "metadata": {},
   "outputs": [],
   "source": [
    "def insert_zeros(list1, list2):\n",
    "    for num in list1:\n",
    "        if num not in list2:\n",
    "            idx = list1.index(num)\n",
    "            list2.insert(idx, 0)\n",
    "\n",
    "# テスト用のリスト\n",
    "list1 = [1, 2, 4, 5]\n",
    "list2 = [1, 3, 5]\n",
    "\n",
    "insert_zeros(list1, list2)\n",
    "print(list2)  # [1, 0, 3, 5]\n"
   ]
  },
  {
   "cell_type": "code",
   "execution_count": 32,
   "metadata": {},
   "outputs": [
    {
     "name": "stdout",
     "output_type": "stream",
     "text": [
      "21.240056497100003\n"
     ]
    }
   ],
   "source": [
    "# Python code to find Euclidean distance\n",
    "# using dot()\n",
    "\n",
    "import numpy as np\n",
    "\n",
    "# initializing points in\n",
    "# numpy arrays\n",
    "bbox = np.array((0, 50, 80, 138, 149, 0, 221))\n",
    "pose = np.array((18, 29, 74, 85, 108, 136, 147, 168, 198, 209))\n",
    "proposed = np.array((18, 29, 74, 85, 108, 136, 168, 198, 209))\n",
    "ground_truth = np.array((18, 0, 50, 85, 108, 140, 168, 198, 0))\n",
    "\n",
    "# subtracting vector\n",
    "temp = proposed - ground_truth\n",
    "\n",
    "# doing dot product\n",
    "# for finding\n",
    "# sum of the squares\n",
    "sum_sq = np.dot(temp.T, temp)\n",
    "\n",
    "# Doing squareroot and\n",
    "# printing Euclidean distance\n",
    "print(np.sqrt(sum_sq) / len(pose))\n"
   ]
  },
  {
   "cell_type": "markdown",
   "metadata": {},
   "source": [
    "# Frame for annotation"
   ]
  },
  {
   "cell_type": "code",
   "execution_count": null,
   "metadata": {},
   "outputs": [],
   "source": [
    "from torchvision.io import read_video\n",
    "import matplotlib.pyplot as plt\n",
    "\n",
    "# load video \n",
    "video_path = mix_method['video_path']\n",
    "vframes, *_ = read_video(video_path, pts_unit=\"sec\", output_format=\"THWC\")"
   ]
  },
  {
   "cell_type": "code",
   "execution_count": null,
   "metadata": {},
   "outputs": [],
   "source": [
    "for frame in range(vframes.shape[0]):\n",
    "    plt.imshow(vframes[frame])\n",
    "    plt.title(f'frame: {frame}')\n",
    "    plt.show()"
   ]
  }
 ],
 "metadata": {
  "kernelspec": {
   "display_name": "Python 3",
   "language": "python",
   "name": "python3"
  },
  "language_info": {
   "codemirror_mode": {
    "name": "ipython",
    "version": 3
   },
   "file_extension": ".py",
   "mimetype": "text/x-python",
   "name": "python",
   "nbconvert_exporter": "python",
   "pygments_lexer": "ipython3",
   "version": "3.8.10"
  }
 },
 "nbformat": 4,
 "nbformat_minor": 2
}
